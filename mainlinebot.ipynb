{
 "cells": [
  {
   "cell_type": "code",
   "execution_count": 1,
   "metadata": {
    "pycharm": {
     "is_executing": true
    }
   },
   "outputs": [
    {
     "data": {
      "text/plain": [
       "'\\n當用戶關注Line@後，Line會發一個FollowEvent，\\n\\n我們接受到之後，取得用戶個資，對用戶綁定自定義菜單，會回傳四個消息給用戶\\n'"
      ]
     },
     "execution_count": 1,
     "metadata": {},
     "output_type": "execute_result"
    }
   ],
   "source": [
    "\"\"\"\n",
    "當用戶關注Line@後，Line會發一個FollowEvent，\n",
    "\n",
    "我們接受到之後，取得用戶個資，對用戶綁定自定義菜單，會回傳四個消息給用戶\n",
    "\"\"\""
   ]
  },
  {
   "cell_type": "code",
   "execution_count": 2,
   "metadata": {
    "pycharm": {
     "is_executing": true,
     "name": "#%%\n"
    }
   },
   "outputs": [
    {
     "name": "stdout",
     "output_type": "stream",
     "text": [
      "<linebot.api.LineBotApi object at 0x000001E05E9A5788>\n",
      "<linebot.webhook.WebhookHandler object at 0x000001E0607B4608>\n"
     ]
    }
   ],
   "source": [
    "\"\"\"\n",
    "\n",
    "啟用伺服器基本樣板\n",
    "\n",
    "\"\"\"\n",
    "\n",
    "# 引用Web Server套件\n",
    "from flask import Flask, request, abort\n",
    "\n",
    "# 從linebot 套件包裡引用 LineBotApi 與 WebhookHandler 類別\n",
    "from linebot import (\n",
    "    LineBotApi, WebhookHandler\n",
    ")\n",
    "# \n",
    "from linebot.exceptions import (\n",
    "    InvalidSignatureError\n",
    ")\n",
    "from linebot.models import (\n",
    "    TextSendMessage, TemplateSendMessage , ImageSendMessage, FlexSendMessage, CarouselContainer\n",
    ")\n",
    "# 將消息模型，文字收取消息與文字寄發消息 引入\n",
    "from linebot.models import (\n",
    "    MessageEvent, TextMessage, PostbackEvent\n",
    ")\n",
    "\n",
    "from linebot.models.template import( \n",
    "    ButtonsTemplate\n",
    ")\n",
    "\n",
    "# 引用無效簽章錯誤\n",
    "from linebot.exceptions import (\n",
    "    InvalidSignatureError\n",
    ")\n",
    "\n",
    "# 載入json處理套件\n",
    "import json\n",
    "\n",
    "# 載入基礎設定檔\n",
    "secretFileContentJson=json.load(open(\"../line_secret_key\",'r',encoding=\"utf-8\"))\n",
    "server_url=secretFileContentJson.get(\"server_url\")\n",
    "\n",
    "# 設定Server啟用細節\n",
    "app = Flask(__name__,static_url_path = \"/images\" , static_folder = \"../images/\")\n",
    "\n",
    "# 生成實體物件\n",
    "line_bot_api = LineBotApi(secretFileContentJson.get(\"channel_access_token\"))\n",
    "handler = WebhookHandler(secretFileContentJson.get(\"secret_key\"))\n",
    "print(line_bot_api)\n",
    "print(handler)\n",
    "# 啟動server對外接口，使Line能丟消息進來\n",
    "@app.route(\"/\", methods=['POST'])\n",
    "def callback():\n",
    "    # get X-Line-Signature header value\n",
    "    signature = request.headers['X-Line-Signature']\n",
    "\n",
    "    # get request body as text\n",
    "    body = request.get_data(as_text=True)\n",
    "    app.logger.info(\"Request body: \" + body)\n",
    "\n",
    "    # handle webhook body\n",
    "    try:\n",
    "        handler.handle(body, signature)\n",
    "    except InvalidSignatureError:\n",
    "        abort(400)\n",
    "\n",
    "    return 'OK'"
   ]
  },
  {
   "cell_type": "code",
   "execution_count": 3,
   "metadata": {
    "pycharm": {
     "is_executing": true,
     "name": "#%%\n"
    }
   },
   "outputs": [
    {
     "data": {
      "text/plain": [
       "'\\n\\n用戶菜單功能介紹\\n\\n    用戶能透過點擊菜單，進行我方希冀之業務功能。\\n    \\n流程\\n    準備菜單的圖面設定檔\\n    讀取安全設定檔上的參數\\n    將菜單設定檔傳給Line\\n    對Line上傳菜單照片\\n    檢視現有的菜單\\n    將菜單與用戶做綁定\\n    將菜單與用戶解除綁定\\n    刪除菜單\\n\\n'"
      ]
     },
     "execution_count": 3,
     "metadata": {},
     "output_type": "execute_result"
    }
   ],
   "source": [
    "'''\n",
    "\n",
    "用戶菜單功能介紹\n",
    "\n",
    "    用戶能透過點擊菜單，進行我方希冀之業務功能。\n",
    "    \n",
    "流程\n",
    "    準備菜單的圖面設定檔\n",
    "    讀取安全設定檔上的參數\n",
    "    將菜單設定檔傳給Line\n",
    "    對Line上傳菜單照片\n",
    "    檢視現有的菜單\n",
    "    將菜單與用戶做綁定\n",
    "    將菜單與用戶解除綁定\n",
    "    刪除菜單\n",
    "\n",
    "'''"
   ]
  },
  {
   "cell_type": "code",
   "execution_count": 4,
   "metadata": {
    "pycharm": {
     "name": "#%%\n"
    }
   },
   "outputs": [],
   "source": [
    "'''\n",
    "菜單設定檔\n",
    "\n",
    "    設定圖面大小、按鍵名與功能\n",
    "    \n",
    "'''\n",
    "\n",
    "menuRawData=\"\"\"\n",
    "{\n",
    "  \"size\": {\n",
    "    \"width\": 2500,\n",
    "    \"height\": 1686\n",
    "  },\n",
    "  \"selected\": true,\n",
    "  \"name\": \"主圖文選單\",\n",
    "  \"chatBarText\": \"查看更多資訊\",\n",
    "  \"areas\": [\n",
    "    {\n",
    "      \"bounds\": {\n",
    "        \"x\": 271,\n",
    "        \"y\": 855,\n",
    "        \"width\": 746,\n",
    "        \"height\": 695\n",
    "      },\n",
    "      \"action\": {\n",
    "        \"type\": \"postback\",\n",
    "        \"text\": \"關於創辦人\",\n",
    "        \"data\": \"action2\"\n",
    "      }\n",
    "    },\n",
    "    {\n",
    "      \"bounds\": {\n",
    "        \"x\": 1531,\n",
    "        \"y\": 901,\n",
    "        \"width\": 746,\n",
    "        \"height\": 649\n",
    "      },\n",
    "      \"action\": {\n",
    "        \"type\": \"postback\",\n",
    "        \"text\": \"開始上課\",\n",
    "        \"data\": \"action1\"\n",
    "      }\n",
    "    },\n",
    "    {\n",
    "      \"bounds\": {\n",
    "        \"x\": 1531,\n",
    "        \"y\": 88,\n",
    "        \"width\": 746,\n",
    "        \"height\": 649\n",
    "      },\n",
    "      \"action\": {\n",
    "        \"type\": \"postback\",\n",
    "        \"text\": \"查閱已獲得學分\",\n",
    "        \"data\": \"action5\"\n",
    "      }\n",
    "    },\n",
    "    {\n",
    "      \"bounds\": {\n",
    "        \"x\": 252,\n",
    "        \"y\": 97,\n",
    "        \"width\": 775,\n",
    "        \"height\": 639\n",
    "      },\n",
    "      \"action\": {\n",
    "        \"type\": \"postback\",\n",
    "        \"text\": \"查閱畢業條件\",\n",
    "        \"data\": \"action3\"\n",
    "      }\n",
    "    },\n",
    "    {\n",
    "      \"bounds\": {\n",
    "        \"x\": 0,\n",
    "        \"y\": 455,\n",
    "        \"width\": 252,\n",
    "        \"height\": 776\n",
    "      },\n",
    "      \"action\": {\n",
    "        \"type\": \"postback\",\n",
    "        \"text\": \"測驗將開始\",\n",
    "        \"data\": \"action4\"\n",
    "      }\n",
    "    },\n",
    "    {\n",
    "      \"bounds\": {\n",
    "        \"x\": 2299,\n",
    "        \"y\": 450,\n",
    "        \"width\": 201,\n",
    "        \"height\": 719\n",
    "      },\n",
    "      \"action\": {\n",
    "        \"type\": \"uri\",\n",
    "        \"uri\": \"https://play.famobi.com/bubble-woods\"\n",
    "      }\n",
    "    }\n",
    "  ]\n",
    "}\n",
    "\"\"\""
   ]
  },
  {
   "cell_type": "code",
   "execution_count": 5,
   "metadata": {},
   "outputs": [
    {
     "data": {
      "text/plain": [
       "'\\n==============================================================\\n=========== 圖文選單 ==========================================\\n======= 如果不小心上傳太多重複的圖文選單到Line Bot上， ===========\\n======= 先查詢這隻Line Bot上總共有多少圖文選單，全部刪掉 =========\\n==============================================================\\n'"
      ]
     },
     "execution_count": 5,
     "metadata": {},
     "output_type": "execute_result"
    }
   ],
   "source": [
    "'''\n",
    "==============================================================\n",
    "=========== 圖文選單 ==========================================\n",
    "======= 如果不小心上傳太多重複的圖文選單到Line Bot上， ===========\n",
    "======= 先查詢這隻Line Bot上總共有多少圖文選單，全部刪掉 =========\n",
    "==============================================================\n",
    "'''\n",
    "\n",
    "# 讓 Line_bot_api 查詢，現有創建的圖文選單\n",
    "# rich_menu_list = line_bot_api.get_rich_menu_list()\n",
    "# for rich_menu in rich_menu_list:\n",
    "#     line_bot_api.delete_rich_menu(rich_menu.rich_menu_id)"
   ]
  },
  {
   "cell_type": "code",
   "execution_count": 6,
   "metadata": {
    "pycharm": {
     "name": "#%%\n"
    }
   },
   "outputs": [
    {
     "name": "stdout",
     "output_type": "stream",
     "text": [
      "QQLa+AX8t1y2nW2eatXZwQVGgDklm4Qh55EfSOEY2glcfXpVIDDIa3NViMiVhKacZYN56GKxupl6WgZbaj4p71WguhADJKRcbJD+NKRlDpi/maDq9CDM8ZnpGfvKvwdJi7SELqPb5vCA4RTSnUZq0gdB04t89/1O/w1cDnyilFU=\n",
      "7377a7ff639c0126faf4030bf0b3a3f2\n",
      "\n"
     ]
    }
   ],
   "source": [
    "'''\n",
    "\n",
    "讀取安全檔案內的字串，以供後續程式碼調用\n",
    "\n",
    "'''\n",
    "import json\n",
    "secretFileContentJson=json.load(open(\"../line_secret_key\",'r',encoding=\"utf-8\"))\n",
    "\n",
    "print(secretFileContentJson.get(\"channel_access_token\"))\n",
    "print(secretFileContentJson.get(\"secret_key\"))\n",
    "print(secretFileContentJson.get(\"self_user_id\"))\n"
   ]
  },
  {
   "cell_type": "code",
   "execution_count": 7,
   "metadata": {
    "pycharm": {
     "name": "#%%\n"
    }
   },
   "outputs": [],
   "source": [
    "'''\n",
    "\n",
    "用channel_access_token創建line_bot_api，預備用來跟Line進行溝通\n",
    "\n",
    "\n",
    "'''\n",
    "\n",
    "from linebot import (\n",
    "    LineBotApi, WebhookHandler\n",
    ")\n",
    "\n",
    "line_bot_api = LineBotApi(secretFileContentJson.get(\"channel_access_token\"))\n"
   ]
  },
  {
   "cell_type": "code",
   "execution_count": 8,
   "metadata": {
    "pycharm": {
     "name": "#%%\n"
    }
   },
   "outputs": [
    {
     "name": "stdout",
     "output_type": "stream",
     "text": [
      "richmenu-bed263f91f98cdd381339a5837ed7259\n"
     ]
    }
   ],
   "source": [
    "'''\n",
    "\n",
    "載入前面的圖文選單設定，\n",
    "\n",
    "並要求line_bot_api將圖文選單上傳至Line\n",
    "    \n",
    "\n",
    "'''\n",
    "\n",
    "from linebot.models import RichMenu\n",
    "import requests\n",
    "\n",
    "menuJson=json.loads(menuRawData)\n",
    "\n",
    "lineRichMenuId = line_bot_api.create_rich_menu(rich_menu=RichMenu.new_from_json_dict(menuJson))\n",
    "print(lineRichMenuId)\n",
    "\n"
   ]
  },
  {
   "cell_type": "code",
   "execution_count": 9,
   "metadata": {
    "pycharm": {
     "name": "#%%\n"
    }
   },
   "outputs": [
    {
     "name": "stdout",
     "output_type": "stream",
     "text": [
      "<_io.BufferedReader name='001.jpg'>\n",
      "None\n"
     ]
    }
   ],
   "source": [
    "'''\n",
    "\n",
    "將先前準備的菜單照片，以Post消息寄發給Line\n",
    "\n",
    "    載入照片\n",
    "    要求line_bot_api，將圖片傳到先前的圖文選單id\n",
    "\n",
    "\n",
    "'''\n",
    "\n",
    "\n",
    "uploadImageFile=open(\"001.jpg\",'rb')\n",
    "print(uploadImageFile)\n",
    "\n",
    "\n",
    "setImageResponse = line_bot_api.set_rich_menu_image(lineRichMenuId,'image/jpeg',uploadImageFile)\n",
    "\n",
    "print(setImageResponse)\n"
   ]
  },
  {
   "cell_type": "code",
   "execution_count": 10,
   "metadata": {
    "pycharm": {
     "name": "#%%\n"
    }
   },
   "outputs": [
    {
     "data": {
      "text/plain": [
       "'\\n\\n將選單綁定到特定用戶身上\\n    取出上面得到的菜單Id及用戶id\\n    要求line_bot_api告知Line，將用戶與圖文選單做綁定\\n\\n'"
      ]
     },
     "execution_count": 10,
     "metadata": {},
     "output_type": "execute_result"
    }
   ],
   "source": [
    "'''\n",
    "\n",
    "將選單綁定到特定用戶身上\n",
    "    取出上面得到的菜單Id及用戶id\n",
    "    要求line_bot_api告知Line，將用戶與圖文選單做綁定\n",
    "\n",
    "'''\n",
    "\n",
    "# https://api.line.me/v2/bot/user/{userId}/richmenu/{richMenuId}\n",
    "\n",
    "\n",
    "# linkResult=line_bot_api.link_rich_menu_to_user(secretFileContentJson[\"self_user_id\"], lineRichMenuId)\n",
    "\n",
    "# print(linkResult)"
   ]
  },
  {
   "cell_type": "code",
   "execution_count": 11,
   "metadata": {},
   "outputs": [
    {
     "name": "stdout",
     "output_type": "stream",
     "text": [
      "richmenu-329bf97ecdcbf541df6681e0795cafc9\n",
      "richmenu-f9a6e14c0f9f7d73938907e6c025ae2f\n",
      "richmenu-1f4ec1ed9ee4708a53ec1c71c8b942e0\n",
      "richmenu-389ceacc0336a86320fbf4b8def83b32\n",
      "richmenu-b45d6b0b6f95583d90835a2e3927bf2c\n",
      "richmenu-dfbe852131ebb0bf66cfb71801e542b1\n",
      "richmenu-5868861d4e3d1c9b5b207a74b31fd13f\n",
      "richmenu-3712725302a708e85a5b07d05b113a8a\n",
      "richmenu-2292f9c8b8e8501bc5b6846c8db14b03\n",
      "richmenu-21afc90fcd7426ad632d10b6bb9493ef\n",
      "richmenu-bed263f91f98cdd381339a5837ed7259\n",
      "richmenu-ef6f926b03e3e7ddf7a66d01b975d83a\n",
      "richmenu-b05a62b45dfaeba59ed3f0bea4d42b41\n",
      "richmenu-0b98c21ce1e095ba9afa1a0f0e000aa2\n",
      "richmenu-7cbf40a8b60cf79d41da751d0c1caecb\n",
      "richmenu-e09d554e599e7e08b65399a107955a97\n",
      "richmenu-648f24d1c4ab4c50db48119d8a68c16b\n",
      "richmenu-7a32fdecf8ad29d24d45549d7bf9bdde\n"
     ]
    }
   ],
   "source": [
    "rich_menu_list = line_bot_api.get_rich_menu_list()\n",
    "for rich_menu in rich_menu_list:\n",
    "    print(rich_menu.rich_menu_id)"
   ]
  },
  {
   "cell_type": "code",
   "execution_count": 12,
   "metadata": {},
   "outputs": [],
   "source": [
    "# rich_menu_id = line_bot_api.get_rich_menu_id_of_user(secretFileContentJson[\"self_user_id\"])\n",
    "# print(rich_menu_id)"
   ]
  },
  {
   "cell_type": "code",
   "execution_count": 13,
   "metadata": {
    "pycharm": {
     "is_executing": true,
     "name": "#%%\n"
    }
   },
   "outputs": [],
   "source": [
    "'''\n",
    "\n",
    "製作文字與圖片的教學訊息\n",
    "\n",
    "'''\n",
    "# 將消息模型，文字收取消息與文字寄發消息 引入\n",
    "from linebot.models import (\n",
    "    MessageEvent, TextMessage, TextSendMessage, ImageSendMessage\n",
    ")\n",
    "\n",
    "# 消息清單\n",
    "reply_message_list = [\n",
    "    TextSendMessage(text=\"歡迎您進入Drama School，這個世界每天有成千上萬的影集在更新，趕快開始上課跟上大家的腳步吧!\"),\n",
    "    ImageSendMessage(original_content_url='https://imgur.com/vJzd18w.jpg',\n",
    "    preview_image_url='https://imgur.com/vJzd18w.jpg'),\n",
    "]\n"
   ]
  },
  {
   "cell_type": "code",
   "execution_count": 14,
   "metadata": {
    "pycharm": {
     "is_executing": true,
     "name": "#%%\n"
    }
   },
   "outputs": [],
   "source": [
    "'''\n",
    "\n",
    "撰寫用戶關注時，我們要處理的商業邏輯\n",
    "\n",
    "1. 取得用戶個資，並存回伺服器\n",
    "2. 把先前製作好的自定義菜單，與用戶做綁定\n",
    "3. 回應用戶，歡迎用的文字消息與圖片消息\n",
    "\n",
    "'''\n",
    "\n",
    "\n",
    "# 載入Follow事件\n",
    "from linebot.models.events import (\n",
    "    FollowEvent\n",
    ")\n",
    "\n",
    "# 載入requests套件\n",
    "import requests\n",
    "\n",
    "\n",
    "# 告知handler，如果收到FollowEvent，則做下面的方法處理\n",
    "@handler.add(FollowEvent)\n",
    "def reply_text_and_get_user_profile(event):\n",
    "    \n",
    "    # 取出消息內User的資料\n",
    "    user_profile = line_bot_api.get_profile(event.source.user_id)\n",
    "    print(user_profile)\n",
    "        \n",
    "     # 將用戶資訊存在檔案內\n",
    "    with open(\"../users.txt\", \"a\") as myfile:\n",
    "        myfile.write(json.dumps(vars(user_profile),sort_keys=True))\n",
    "        myfile.write('\\r\\n')\n",
    "        \n",
    "        \n",
    "#     # 將菜單綁定在用戶身上\n",
    "#     linkRichMenuId=secretFileContentJson.get(\"rich_menu_id\")\n",
    "    linkResult=line_bot_api.link_rich_menu_to_user(event.source.user_id,lineRichMenuId)\n",
    "\n",
    "    #回覆文字消息與圖片消息\n",
    "    line_bot_api.reply_message(\n",
    "        event.reply_token,\n",
    "        reply_message_list\n",
    "    )\n"
   ]
  },
  {
   "cell_type": "code",
   "execution_count": 15,
   "metadata": {
    "pycharm": {
     "is_executing": true,
     "name": "#%%\n"
    }
   },
   "outputs": [],
   "source": [
    "def create_sendmessage_array_from_jsonfile(fileName):    \n",
    "    #開啟檔案，轉成json\n",
    "    with open(fileName, 'r', encoding='utf8') as f:\n",
    "        jsonArray = json.load(f)        \n",
    "    \n",
    "    returnArray = []\n",
    "    \n",
    "    for jsonObject in jsonArray:\n",
    "\n",
    "        # 讀取其用來判斷的元件\n",
    "        message_type = jsonObject.get('type')\n",
    "        \n",
    "        # 轉換\n",
    "        if message_type == 'text':\n",
    "            returnArray.append(TextSendMessage.new_from_json_dict(jsonObject))\n",
    "        elif message_type == 'imagemap':\n",
    "            returnArray.append(ImagemapSendMessage.new_from_json_dict(jsonObject))\n",
    "        elif message_type == 'template':\n",
    "            returnArray.append(TemplateSendMessage.new_from_json_dict(jsonObject))\n",
    "        elif message_type == 'image':\n",
    "            returnArray.append(ImageSendMessage.new_from_json_dict(jsonObject))\n",
    "        elif message_type == 'sticker':\n",
    "            returnArray.append(StickerSendMessage.new_from_json_dict(jsonObject))  \n",
    "        elif message_type == 'audio':\n",
    "            returnArray.append(AudioSendMessage.new_from_json_dict(jsonObject))  \n",
    "        elif message_type == 'location':\n",
    "            returnArray.append(LocationSendMessage.new_from_json_dict(jsonObject))\n",
    "        elif message_type == 'flex':\n",
    "            returnArray.append(FlexSendMessage.new_from_json_dict(jsonObject))  \n",
    "        elif message_type == 'video':\n",
    "            returnArray.append(FlexSendMessage.new_from_json_dict(jsonObject))    \n",
    "\n",
    "\n",
    "    # 回傳\n",
    "    return returnArray"
   ]
  },
  {
   "cell_type": "code",
   "execution_count": 16,
   "metadata": {},
   "outputs": [],
   "source": [
    "'''\n",
    "利用Line Designer 做出各種回傳訊息的.json檔案\n",
    "讀取.json檔案，做出不同的SendMessage\n",
    "將所有做好的SendMessage，放進字典包起來\n",
    "依照User傳給我不同的文字，給他不同的回覆\n",
    "'''\n",
    "\n",
    "A_TemplateSendMessage01 = create_sendmessage_array_from_jsonfile('./JsonFiles/001.json')\n",
    "#該上課啦~\n",
    "\n",
    "A_TemplateSendMessage02 = create_sendmessage_array_from_jsonfile('./JsonFiles/002.json')\n",
    "#圖文選單\n",
    "\n",
    "A_ImageSendMessage03 = create_sendmessage_array_from_jsonfile('./JsonFiles/003.json')\n",
    "#畢業條件\n",
    "\n",
    "A_TemplateSendMessage04 = create_sendmessage_array_from_jsonfile('./JsonFiles/004.json')\n",
    "#選擇要哪個測驗\n",
    "\n",
    "A_messageSendMessage006 = create_sendmessage_array_from_jsonfile('./JsonFiles/006.json')\n",
    "#恭喜獲得一學分\n",
    "\n",
    "A_messageSendMessage007 = create_sendmessage_array_from_jsonfile('./JsonFiles/007.json')\n",
    "#李屍朝鮮第一題\n",
    "\n",
    "A_messageSendMessage008 = create_sendmessage_array_from_jsonfile('./JsonFiles/008.json')\n",
    "#李屍朝鮮第二題\n",
    "\n",
    "A_messageSendMessage009 = create_sendmessage_array_from_jsonfile('./JsonFiles/009.json')\n",
    "#,答錯\n",
    "\n",
    "A_messageSendMessage010 = create_sendmessage_array_from_jsonfile('./JsonFiles/10.json')\n",
    "#愛的迫降第一題\n",
    "\n",
    "A_messageSendMessage012 = create_sendmessage_array_from_jsonfile('./JsonFiles/12.json')\n",
    "#愛的迫降第二題\n",
    "\n",
    "A_messageSendMessage013 = create_sendmessage_array_from_jsonfile('./JsonFiles/13.json')\n",
    "#想見你第一題\n",
    "\n",
    "A_messageSendMessage014 = create_sendmessage_array_from_jsonfile('./JsonFiles/14.json')\n",
    "#想見你第二題\n",
    "\n",
    "A_messageSendMessage015 = create_sendmessage_array_from_jsonfile('./JsonFiles/15.json')\n",
    "#戀愛第一題\n",
    "\n",
    "A_messageSendMessage016 = create_sendmessage_array_from_jsonfile('./JsonFiles/16.json')\n",
    "#戀愛第二題\n",
    "\n",
    "\n",
    "# dic_SendMessage = {\n",
    "#                     \"21\" : A_TextSendMessage,\n",
    "#                     \"傳給我ImageSendMessage\" : A_ImageSendMessage,\n",
    "#                     \"傳給我TemplateSendMessage_ButtonsTemplate\" : A_TemplateSendMessage,\n",
    "#                     \"傳給我FlexSendMessage_Bubble\" : A_FlexSendMessage_Bubble,\n",
    "#                     \"傳給我FlexSendMessage_Carousel\" : A_FlexSendMessage_Carousel,\n",
    "#                 }  "
   ]
  },
  {
   "cell_type": "code",
   "execution_count": 17,
   "metadata": {},
   "outputs": [],
   "source": [
    "#累積學分運作\n",
    "pt=0\n",
    "Point=\"恭喜獲得%d學分\"%(pt)\n",
    "dictions={\"a1\":2,\"a2\":2,\"a3\":2,\"a4\":2,\"a5\":2,\"a6\":2,\"a7\":2,\"a8\":2}\n",
    "reply_message_list1 = [TextSendMessage(text=Point)]"
   ]
  },
  {
   "cell_type": "code",
   "execution_count": 18,
   "metadata": {},
   "outputs": [],
   "source": [
    "rep = {\n",
    "    \"action1\": A_TemplateSendMessage01,\n",
    "    \"action2\": A_TemplateSendMessage02,\n",
    "    \"action3\": A_ImageSendMessage03,\n",
    "    \"action4\": A_TemplateSendMessage04,\n",
    "    \"action5\":  reply_message_list1,\n",
    "    \"a1\":  A_messageSendMessage007,\n",
    "    \"test2\": A_messageSendMessage009,\n",
    "    \"test1\": A_messageSendMessage006,\n",
    "    \"a2\": A_messageSendMessage008,\n",
    "    \"test4\": A_messageSendMessage009,\n",
    "    \"test3\":  A_messageSendMessage006,\n",
    "    \"a3\": A_messageSendMessage010,\n",
    "    \"test6\": A_messageSendMessage009,\n",
    "    \"test5\": A_messageSendMessage006,\n",
    "    \"a4\": A_messageSendMessage012,\n",
    "    \"test7\": A_messageSendMessage009,\n",
    "    \"test6\": A_messageSendMessage006,\n",
    "    \"a5\": A_messageSendMessage013,\n",
    "    \"test9\": A_messageSendMessage006,\n",
    "    \"test10\": A_messageSendMessage009,\n",
    "    \"a6\": A_messageSendMessage014,\n",
    "    \"test11\": A_messageSendMessage006,\n",
    "    \"test12\": A_messageSendMessage009,\n",
    "    \"a7\": A_messageSendMessage015,\n",
    "    \"test13\": A_messageSendMessage006,\n",
    "    \"test14\": A_messageSendMessage009,\n",
    "    \"a8\": A_messageSendMessage016,\n",
    "    \"test15\": A_messageSendMessage006,\n",
    "    \"test16\": A_messageSendMessage009,\n",
    "}"
   ]
  },
  {
   "cell_type": "code",
   "execution_count": 19,
   "metadata": {},
   "outputs": [],
   "source": [
    "# def rept():\n",
    "#     with open(\"../user_profile_business.txt\", \"a\") as myfile:\n",
    "#         myfile.write(json.dumps(vars(user_profile), sort_keys=True))\n",
    "#         myfile.write('\\r\\n')\n",
    "#         line_bot_api.reply_message(\n",
    "#             event.reply_token,\n",
    "#             rep.get(event.postback.data)\n",
    "#         )"
   ]
  },
  {
   "cell_type": "code",
   "execution_count": 20,
   "metadata": {},
   "outputs": [],
   "source": [
    "@handler.add(PostbackEvent)\n",
    "def handle_post_message(event):\n",
    "    print('觸發PostbackEvent：',event.postback.data)\n",
    "    user_profile = line_bot_api.get_profile(event.source.user_id)\n",
    "    global pt, reply_message_list1\n",
    "    \n",
    "    def rept():\n",
    "        with open(\"../user_profile_business.txt\", \"a\") as myfile:\n",
    "            myfile.write(json.dumps(vars(user_profile), sort_keys=True))\n",
    "            myfile.write('\\r\\n')\n",
    "            line_bot_api.reply_message(\n",
    "                event.reply_token,\n",
    "                rep.get(event.postback.data)\n",
    "            )\n",
    "    rept()\n",
    "    print(event.postback.data)\n",
    "   # 以下為李屍朝鮮降第一題\n",
    "    if (event.postback.data.find('test1') != -1):\n",
    "        print(\"1\")\n",
    "        print(dictions[\"a1\"])\n",
    "        if dictions[\"a1\"] == 2:\n",
    "            dictions[\"a1\"] = 3\n",
    "            pt = pt + 1\n",
    "        print(pt)\n",
    "\n",
    "    # 以下為李屍朝鮮第二題\n",
    "    elif (event.postback.data.find('test3') != -1):\n",
    "        if dictions[\"a2\"] == 2:\n",
    "            dictions[\"a2\"] = 3\n",
    "            pt = pt + 1\n",
    "\n",
    "    # 以下為愛的迫降第一題\n",
    "    elif (event.postback.data.find('test5') != -1):\n",
    "        if dictions[\"a3\"] == 2:\n",
    "            dictions[\"a3\"] = 3\n",
    "            pt = pt + 1\n",
    "\n",
    "    # 以下為愛的迫降第二題\n",
    "    elif (event.postback.data.find('test7') != -1):\n",
    "        if dictions[\"a4\"] == 2:\n",
    "            dictions[\"a4\"] = 3\n",
    "            pt = pt + 1\n",
    "\n",
    "    # 想見你第一題\n",
    "    elif (event.postback.data.find('test9') != 0):\n",
    "         if dictions[\"a5\"] == 2:\n",
    "            dictions[\"a5\"] = 3\n",
    "            pt = pt + 1\n",
    "\n",
    "    # 想見你第二題\n",
    "    elif (event.postback.data.find('test11') != -1):\n",
    "        if dictions[\"a6\"] == 2:\n",
    "            dictions[\"a6\"] = 3\n",
    "            pt = pt + 1\n",
    "\n",
    "    # 戀愛第一題\n",
    "    elif (event.postback.data.find('test13') != -1):\n",
    "        if dictions[\"a7\"] == 2:\n",
    "            dictions[\"a7\"] = 3\n",
    "            pt = pt + 1\n",
    "\n",
    "    # 戀愛第二題\n",
    "    elif (event.postback.data.find('test15') != -1):\n",
    "        if dictions[\"a8\"] == 2:\n",
    "            dictions[\"a8\"] = 3\n",
    "            pt = pt + 1\n",
    "\n",
    "\n",
    "    else:\n",
    "        pass"
   ]
  },
  {
   "cell_type": "code",
   "execution_count": null,
   "metadata": {
    "pycharm": {
     "is_executing": true
    }
   },
   "outputs": [
    {
     "name": "stdout",
     "output_type": "stream",
     "text": [
      " * Serving Flask app \"__main__\" (lazy loading)\n",
      " * Environment: production\n",
      "   WARNING: This is a development server. Do not use it in a production deployment.\n",
      "   Use a production WSGI server instead.\n",
      " * Debug mode: off\n"
     ]
    },
    {
     "name": "stderr",
     "output_type": "stream",
     "text": [
      " * Running on http://0.0.0.0:5000/ (Press CTRL+C to quit)\n"
     ]
    }
   ],
   "source": [
    "'''\n",
    "\n",
    "執行此句，啟動Server，觀察後，按左上方塊，停用Server\n",
    "\n",
    "'''\n",
    "\n",
    "if __name__ == \"__main__\":\n",
    "    app.run(host='0.0.0.0')"
   ]
  },
  {
   "cell_type": "code",
   "execution_count": null,
   "metadata": {},
   "outputs": [],
   "source": []
  }
 ],
 "metadata": {
  "kernelspec": {
   "display_name": "Python 3",
   "language": "python",
   "name": "python3"
  },
  "language_info": {
   "codemirror_mode": {
    "name": "ipython",
    "version": 3
   },
   "file_extension": ".py",
   "mimetype": "text/x-python",
   "name": "python",
   "nbconvert_exporter": "python",
   "pygments_lexer": "ipython3",
   "version": "3.7.6"
  },
  "pycharm": {
   "stem_cell": {
    "cell_type": "raw",
    "metadata": {
     "collapsed": false
    },
    "source": []
   }
  }
 },
 "nbformat": 4,
 "nbformat_minor": 1
}
